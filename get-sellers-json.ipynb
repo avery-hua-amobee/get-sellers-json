{
 "cells": [
  {
   "cell_type": "markdown",
   "id": "f9fe8a65",
   "metadata": {},
   "source": [
    "## Convert a sellers.json file to .xlsx"
   ]
  },
  {
   "cell_type": "code",
   "execution_count": null,
   "id": "88fa46b9",
   "metadata": {},
   "outputs": [],
   "source": [
    "# Import packages\n",
    "import requests\n",
    "import pandas as pd\n",
    "import time\n",
    "from urllib.parse import urlparse"
   ]
  },
  {
   "cell_type": "code",
   "execution_count": null,
   "id": "82193306",
   "metadata": {},
   "outputs": [],
   "source": [
    "# Get the URL for the sellers.json file you want to fetch\n",
    "path = input(\"URL for sellers.json file (ex. https://cdn.indexexchange.com/sellers.json): \")"
   ]
  },
  {
   "cell_type": "code",
   "execution_count": null,
   "id": "2fe6dfff",
   "metadata": {
    "scrolled": true
   },
   "outputs": [],
   "source": [
    "# Parse the sellers.json file, see a preview of the result\n",
    "raw = requests.get(path)\n",
    "data = pd.DataFrame(raw.json()[\"sellers\"])\n",
    "data"
   ]
  },
  {
   "cell_type": "code",
   "execution_count": null,
   "id": "ee09b201",
   "metadata": {
    "scrolled": false
   },
   "outputs": [],
   "source": [
    "# Save data as a .xlsx file named \"sellers_[domain]_[date]_[time].xlsx\"\n",
    "outpath = f\"sellers_{urlparse(path).netloc}_{time.strftime('%Y%m%d_%H%M%S')}.xlsx\"\n",
    "data.to_excel(outpath)\n",
    "print(f\"Wrote the sellers.json data to {outpath}\")"
   ]
  },
  {
   "attachments": {},
   "cell_type": "markdown",
   "id": "efaebb80",
   "metadata": {},
   "source": [
    "*If everything worked correctly, you should be able to locate and download the resulting .xlsx file by clicking on the Jupyter logo at the top left*"
   ]
  }
 ],
 "metadata": {
  "kernelspec": {
   "display_name": "get-sellers-json",
   "language": "python",
   "name": "get-sellers-json"
  },
  "language_info": {
   "codemirror_mode": {
    "name": "ipython",
    "version": 3
   },
   "file_extension": ".py",
   "mimetype": "text/x-python",
   "name": "python",
   "nbconvert_exporter": "python",
   "pygments_lexer": "ipython3",
   "version": "3.9.4"
  }
 },
 "nbformat": 4,
 "nbformat_minor": 5
}
